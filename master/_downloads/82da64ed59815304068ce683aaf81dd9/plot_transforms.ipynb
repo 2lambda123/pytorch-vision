{
  "cells": [
    {
      "cell_type": "code",
      "execution_count": null,
      "metadata": {
        "collapsed": false
      },
      "outputs": [],
      "source": [
        "%matplotlib inline"
      ]
    },
    {
      "cell_type": "markdown",
      "metadata": {},
      "source": [
        "\n# Illustration of transforms\n\nThis example illustrates the various transforms available in :mod:`torchvision.transforms`.\n"
      ]
    },
    {
      "cell_type": "code",
      "execution_count": null,
      "metadata": {
        "collapsed": false
      },
      "outputs": [],
      "source": [
        "from PIL import Image\nfrom pathlib import Path\nimport matplotlib.pyplot as plt\nimport numpy as np\n\nimport torchvision.transforms as T\n\n\norig_img = Image.open(Path('assets') / 'astronaut.jpg')\n\n\ndef plot(img, title=\"\", with_orig=True, **kwargs):\n    def _plot(img, title, **kwargs):\n        plt.figure().suptitle(title, fontsize=25)\n        plt.imshow(np.asarray(img), **kwargs)\n        plt.axis('off')\n\n    if with_orig:\n        _plot(orig_img, \"Original image\")\n    _plot(img, title, **kwargs)"
      ]
    },
    {
      "cell_type": "markdown",
      "metadata": {},
      "source": [
        "## Pad\nThe :class:`~torchvision.transforms.Pad` transform\n(see also :func:`~torchvision.transforms.functional.pad`)\nfills image borders with some pixel values.\n\n"
      ]
    },
    {
      "cell_type": "code",
      "execution_count": null,
      "metadata": {
        "collapsed": false
      },
      "outputs": [],
      "source": [
        "padded_img = T.Pad(padding=30)(orig_img)\nplot(padded_img, \"Padded image\")"
      ]
    },
    {
      "cell_type": "markdown",
      "metadata": {},
      "source": [
        "## Resize\nThe :class:`~torchvision.transforms.Resize` transform\n(see also :func:`~torchvision.transforms.functional.resize`)\nresizes an image.\n\n"
      ]
    },
    {
      "cell_type": "code",
      "execution_count": null,
      "metadata": {
        "collapsed": false
      },
      "outputs": [],
      "source": [
        "resized_img = T.Resize(size=30)(orig_img)\nplot(resized_img, \"Resized image\")"
      ]
    },
    {
      "cell_type": "markdown",
      "metadata": {},
      "source": [
        "## ColorJitter\nThe :class:`~torchvision.transforms.ColorJitter` transform\nrandomly changes the brightness, saturation, and other properties of an image.\n\n"
      ]
    },
    {
      "cell_type": "code",
      "execution_count": null,
      "metadata": {
        "collapsed": false
      },
      "outputs": [],
      "source": [
        "jitted_img = T.ColorJitter(brightness=.5, hue=.3)(orig_img)\nplot(jitted_img, \"Jitted image\")"
      ]
    },
    {
      "cell_type": "markdown",
      "metadata": {},
      "source": [
        "## Grayscale\nThe :class:`~torchvision.transforms.Grayscale` transform\n(see also :func:`~torchvision.transforms.functional.to_grayscale`)\nconverts an image to grayscale\n\n"
      ]
    },
    {
      "cell_type": "code",
      "execution_count": null,
      "metadata": {
        "collapsed": false
      },
      "outputs": [],
      "source": [
        "gray_img = T.Grayscale()(orig_img)\nplot(gray_img, \"Grayscale image\", cmap='gray')"
      ]
    },
    {
      "cell_type": "markdown",
      "metadata": {},
      "source": [
        "## RandomPerspective\nThe :class:`~torchvision.transforms.RandomPerspective` transform\n(see also :func:`~torchvision.transforms.functional.perspective`)\nperforms random perspective transform on an image.\n\n"
      ]
    },
    {
      "cell_type": "code",
      "execution_count": null,
      "metadata": {
        "collapsed": false
      },
      "outputs": [],
      "source": [
        "perspectived_img = T.RandomPerspective(distortion_scale=0.6, p=1.0)(orig_img)\nplot(perspectived_img, \"Perspective transformed image\")"
      ]
    },
    {
      "cell_type": "markdown",
      "metadata": {},
      "source": [
        "## RandomRotation\nThe :class:`~torchvision.transforms.RandomRotation` transform\n(see also :func:`~torchvision.transforms.functional.rotate`)\nrotates an image with random angle.\n\n"
      ]
    },
    {
      "cell_type": "code",
      "execution_count": null,
      "metadata": {
        "collapsed": false
      },
      "outputs": [],
      "source": [
        "rotated_img = T.RandomRotation(degrees=(30, 70))(orig_img)\nplot(rotated_img, \"Rotated image\")"
      ]
    },
    {
      "cell_type": "markdown",
      "metadata": {},
      "source": [
        "## RandomAffine\nThe :class:`~torchvision.transforms.RandomAffine` transform\n(see also :func:`~torchvision.transforms.functional.affine`)\nperforms random affine transform on an image.\n\n"
      ]
    },
    {
      "cell_type": "code",
      "execution_count": null,
      "metadata": {
        "collapsed": false
      },
      "outputs": [],
      "source": [
        "affined_img = T.RandomAffine(degrees=(30, 70), translate=(0.1, 0.3), scale=(0.5, 0.75))(orig_img)\nplot(affined_img, \"Affine transformed image\")"
      ]
    },
    {
      "cell_type": "markdown",
      "metadata": {},
      "source": [
        "## RandomCrop\nThe :class:`~torchvision.transforms.RandomCrop` transform\n(see also :func:`~torchvision.transforms.functional.crop`)\ncrops an image at a random location.\n\n"
      ]
    },
    {
      "cell_type": "code",
      "execution_count": null,
      "metadata": {
        "collapsed": false
      },
      "outputs": [],
      "source": [
        "crop = T.RandomCrop(size=(128, 128))(orig_img)\nplot(crop, \"Random crop\")"
      ]
    },
    {
      "cell_type": "markdown",
      "metadata": {},
      "source": [
        "## RandomResizedCrop\nThe :class:`~torchvision.transforms.RandomResizedCrop` transform\n(see also :func:`~torchvision.transforms.functional.resized_crop`)\ncrops an image at a random location, and then resizes the crop to a given\nsize.\n\n"
      ]
    },
    {
      "cell_type": "code",
      "execution_count": null,
      "metadata": {
        "collapsed": false
      },
      "outputs": [],
      "source": [
        "resized_crop = T.RandomResizedCrop(size=(32, 32))(orig_img)\nplot(resized_crop, \"Random resized crop\")"
      ]
    },
    {
      "cell_type": "markdown",
      "metadata": {},
      "source": [
        "## RandomHorizontalFlip\nThe :class:`~torchvision.transforms.RandomHorizontalFlip` transform\n(see also :func:`~torchvision.transforms.functional.hflip`)\nperforms horizontal flip of an image, with a given probability.\n\n<div class=\"alert alert-info\"><h4>Note</h4><p>Since the transform is applied randomly, the two images below may actually be\n  the same.</p></div>\n\n"
      ]
    },
    {
      "cell_type": "code",
      "execution_count": null,
      "metadata": {
        "collapsed": false
      },
      "outputs": [],
      "source": [
        "random_hflip = T.RandomHorizontalFlip(p=0.5)(orig_img)\nplot(random_hflip, \"Random horizontal flip\")"
      ]
    },
    {
      "cell_type": "markdown",
      "metadata": {},
      "source": [
        "## RandomVerticalFlip\nThe :class:`~torchvision.transforms.RandomVerticalFlip` transform\n(see also :func:`~torchvision.transforms.functional.vflip`)\nperforms vertical flip of an image, with a given probability.\n\n<div class=\"alert alert-info\"><h4>Note</h4><p>Since the transform is applied randomly, the two images below may actually be\n  the same.</p></div>\n\n"
      ]
    },
    {
      "cell_type": "code",
      "execution_count": null,
      "metadata": {
        "collapsed": false
      },
      "outputs": [],
      "source": [
        "random_vflip = T.RandomVerticalFlip(p=0.5)(orig_img)\nplot(random_vflip, \"Random vertical flip\")"
      ]
    },
    {
      "cell_type": "markdown",
      "metadata": {},
      "source": [
        "## RandomApply\nThe :class:`~torchvision.transforms.RandomApply` transform\nrandomly applies a list of transforms, with a given probability\n\n<div class=\"alert alert-info\"><h4>Note</h4><p>Since the transform is applied randomly, the two images below may actually be\n  the same.</p></div>\n\n"
      ]
    },
    {
      "cell_type": "code",
      "execution_count": null,
      "metadata": {
        "collapsed": false
      },
      "outputs": [],
      "source": [
        "random_apply = T.RandomApply(transforms=[T.RandomCrop(size=(64, 64))], p=0.5)(orig_img)\nplot(random_apply, \"Random Apply transform\")"
      ]
    },
    {
      "cell_type": "markdown",
      "metadata": {},
      "source": [
        "## GaussianBlur\nThe :class:`~torchvision.transforms.GaussianBlur` transform\n(see also :func:`~torchvision.transforms.functional.gaussian_blur`)\nperforms gaussianblur transform on an image.\n\n"
      ]
    },
    {
      "cell_type": "code",
      "execution_count": null,
      "metadata": {
        "collapsed": false
      },
      "outputs": [],
      "source": [
        "gaus_blur_img = T.GaussianBlur(kernel_size=(5, 9), sigma=(0.4, 3.0))(orig_img)\nplot(gaus_blur_img, \"Gaussian Blur of image\")"
      ]
    }
  ],
  "metadata": {
    "kernelspec": {
      "display_name": "Python 3",
      "language": "python",
      "name": "python3"
    },
    "language_info": {
      "codemirror_mode": {
        "name": "ipython",
        "version": 3
      },
      "file_extension": ".py",
      "mimetype": "text/x-python",
      "name": "python",
      "nbconvert_exporter": "python",
      "pygments_lexer": "ipython3",
      "version": "3.7.10"
    }
  },
  "nbformat": 4,
  "nbformat_minor": 0
}