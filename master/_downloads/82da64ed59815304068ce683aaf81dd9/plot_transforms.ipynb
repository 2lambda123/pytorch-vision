{
  "cells": [
    {
      "cell_type": "code",
      "execution_count": null,
      "metadata": {
        "collapsed": false
      },
      "outputs": [],
      "source": [
        "%matplotlib inline"
      ]
    },
    {
      "cell_type": "markdown",
      "metadata": {},
      "source": [
        "\n# Illustration of transforms\n\nThis example illustrates the various transforms available in :mod:`torchvision.transforms`.\n"
      ]
    },
    {
      "cell_type": "code",
      "execution_count": null,
      "metadata": {
        "collapsed": false
      },
      "outputs": [],
      "source": [
        "from PIL import Image\nfrom pathlib import Path\nimport matplotlib.pyplot as plt\nimport numpy as np\n\nimport torchvision.transforms as T\n\n\norig_img = Image.open(Path('assets') / 'astronaut.jpg')\n\n\ndef plot(img, title=\"\", with_orig=True, **kwargs):\n    def _plot(img, title, **kwargs):\n        plt.figure().suptitle(title, fontsize=25)\n        plt.imshow(np.asarray(img), **kwargs)\n        plt.axis('off')\n\n    if with_orig:\n        _plot(orig_img, \"Original image\")\n    _plot(img, title, **kwargs)"
      ]
    },
    {
      "cell_type": "markdown",
      "metadata": {},
      "source": [
        "## Pad\nThe :class:`~torchvision.transforms.Pad` transform\n(see also :func:`~torchvision.transforms.functional.pad`)\nfills image borders with some pixel values.\n\n"
      ]
    },
    {
      "cell_type": "code",
      "execution_count": null,
      "metadata": {
        "collapsed": false
      },
      "outputs": [],
      "source": [
        "padded_img = T.Pad(padding=30)(orig_img)\nplot(padded_img, \"Padded image\")"
      ]
    },
    {
      "cell_type": "markdown",
      "metadata": {},
      "source": [
        "## Resize\nThe :class:`~torchvision.transforms.Resize` transform\n(see also :func:`~torchvision.transforms.functional.resize`)\nresizes an image.\n\n"
      ]
    },
    {
      "cell_type": "code",
      "execution_count": null,
      "metadata": {
        "collapsed": false
      },
      "outputs": [],
      "source": [
        "resized_img = T.Resize(size=30)(orig_img)\nplot(resized_img, \"Resized image\")"
      ]
    },
    {
      "cell_type": "markdown",
      "metadata": {},
      "source": [
        "## ColorJitter\nThe :class:`~torchvision.transforms.ColorJitter` transform\nrandomly changes the brightness, saturation, and other properties of an image.\n\n"
      ]
    },
    {
      "cell_type": "code",
      "execution_count": null,
      "metadata": {
        "collapsed": false
      },
      "outputs": [],
      "source": [
        "jitted_img = T.ColorJitter(brightness=.5, hue=.3)(orig_img)\nplot(jitted_img, \"Jitted image\")"
      ]
    },
    {
      "cell_type": "markdown",
      "metadata": {},
      "source": [
        "## Grayscale\nThe :class:`~torchvision.transforms.Grayscale` transform\n(see also :func:`~torchvision.transforms.functional.to_grayscale`)\nconverts an image to grayscale\n\n"
      ]
    },
    {
      "cell_type": "code",
      "execution_count": null,
      "metadata": {
        "collapsed": false
      },
      "outputs": [],
      "source": [
        "gray_img = T.Grayscale()(orig_img)\nplot(gray_img, \"Grayscale image\", cmap='gray')"
      ]
    },
    {
      "cell_type": "markdown",
      "metadata": {},
      "source": [
        "## RandomPerspective\nThe :class:`~torchvision.transforms.RandomPerspective` transform\n(see also :func:`~torchvision.transforms.functional.perspective`)\nperforms random perspective transform on an image.\n\n"
      ]
    },
    {
      "cell_type": "code",
      "execution_count": null,
      "metadata": {
        "collapsed": false
      },
      "outputs": [],
      "source": [
        "perspectived_img = T.RandomPerspective(distortion_scale=0.6, p=1.0)(orig_img)\nplot(perspectived_img, \"Perspective transformed image\")"
      ]
    },
    {
      "cell_type": "markdown",
      "metadata": {},
      "source": [
        "## RandomRotation\nThe :class:`~torchvision.transforms.RandomRotation` transform\n(see also :func:`~torchvision.transforms.functional.rotate`)\nrotates an image with random angle.\n\n"
      ]
    },
    {
      "cell_type": "code",
      "execution_count": null,
      "metadata": {
        "collapsed": false
      },
      "outputs": [],
      "source": [
        "rotated_img = T.RandomRotation(degrees=(30, 70))(orig_img)\nplot(rotated_img, \"Rotated image\")"
      ]
    },
    {
      "cell_type": "markdown",
      "metadata": {},
      "source": [
        "## RandomAffine\nThe :class:`~torchvision.transforms.RandomAffine` transform\n(see also :func:`~torchvision.transforms.functional.affine`)\nperforms random affine transform on an image.\n\n"
      ]
    },
    {
      "cell_type": "code",
      "execution_count": null,
      "metadata": {
        "collapsed": false
      },
      "outputs": [],
      "source": [
        "affined_img = T.RandomAffine(degrees=(30, 70), translate=(0.1, 0.3), scale=(0.5, 0.75))(orig_img)\nplot(affined_img, \"Affine transformed image\")"
      ]
    }
  ],
  "metadata": {
    "kernelspec": {
      "display_name": "Python 3",
      "language": "python",
      "name": "python3"
    },
    "language_info": {
      "codemirror_mode": {
        "name": "ipython",
        "version": 3
      },
      "file_extension": ".py",
      "mimetype": "text/x-python",
      "name": "python",
      "nbconvert_exporter": "python",
      "pygments_lexer": "ipython3",
      "version": "3.7.10"
    }
  },
  "nbformat": 4,
  "nbformat_minor": 0
}