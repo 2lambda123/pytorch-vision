{
  "cells": [
    {
      "cell_type": "markdown",
      "metadata": {},
      "source": [
        "\n# Transforms v2: End-to-end object detection example\n\nObject detection is not supported out of the box by ``torchvision.transforms`` v1, since it only supports images.\n``torchvision.transforms.v2`` enables jointly transforming images, videos, bounding boxes, and masks. This example\nshowcases an end-to-end object detection training using the stable ``torchvision.datasets`` and ``torchvision.models``\nas well as the new ``torchvision.transforms.v2`` v2 API.\n"
      ]
    },
    {
      "cell_type": "code",
      "execution_count": null,
      "metadata": {
        "collapsed": false
      },
      "outputs": [],
      "source": [
        "import pathlib\n\nimport PIL.Image\n\nimport torch\nimport torch.utils.data\n\nimport torchvision\n\n\ndef show(sample):\n    import matplotlib.pyplot as plt\n\n    from torchvision.transforms.v2 import functional as F\n    from torchvision.utils import draw_bounding_boxes\n\n    image, target = sample\n    if isinstance(image, PIL.Image.Image):\n        image = F.to_image(image)\n    image = F.to_dtype(image, torch.uint8, scale=True)\n    annotated_image = draw_bounding_boxes(image, target[\"boxes\"], colors=\"yellow\", width=3)\n\n    fig, ax = plt.subplots()\n    ax.imshow(annotated_image.permute(1, 2, 0).numpy())\n    ax.set(xticklabels=[], yticklabels=[], xticks=[], yticks=[])\n    fig.tight_layout()\n\n    fig.show()\n\n\n# We are using BETA APIs, so we deactivate the associated warning, thereby acknowledging that\n# some APIs may slightly change in the future\ntorchvision.disable_beta_transforms_warning()\n\nfrom torchvision import models, datasets\nimport torchvision.transforms.v2 as transforms"
      ]
    },
    {
      "cell_type": "markdown",
      "metadata": {},
      "source": [
        "We start off by loading the :class:`~torchvision.datasets.CocoDetection` dataset to have a look at what it currently\nreturns, and we'll see how to convert it to a format that is compatible with our new transforms.\n\n"
      ]
    },
    {
      "cell_type": "code",
      "execution_count": null,
      "metadata": {
        "collapsed": false
      },
      "outputs": [],
      "source": [
        "def load_example_coco_detection_dataset(**kwargs):\n    # This loads fake data for illustration purposes of this example. In practice, you'll have\n    # to replace this with the proper data\n    root = pathlib.Path(\"assets\") / \"coco\"\n    return datasets.CocoDetection(str(root / \"images\"), str(root / \"instances.json\"), **kwargs)\n\n\ndataset = load_example_coco_detection_dataset()\n\nsample = dataset[0]\nimage, target = sample\nprint(type(image))\nprint(type(target), type(target[0]), list(target[0].keys()))"
      ]
    },
    {
      "cell_type": "markdown",
      "metadata": {},
      "source": [
        "The dataset returns a two-tuple with the first item being a :class:`PIL.Image.Image` and second one a list of\ndictionaries, which each containing the annotations for a single object instance. As is, this format is not compatible\nwith the ``torchvision.transforms.v2``, nor with the models. To overcome that, we provide the\n:func:`~torchvision.datasets.wrap_dataset_for_transforms_v2` function. For\n:class:`~torchvision.datasets.CocoDetection`, this changes the target structure to a single dictionary of lists. It\nalso adds the key-value-pairs ``\"boxes\"``, ``\"masks\"``, and ``\"labels\"`` wrapped in the corresponding\n``torchvision.datapoints``. By default, it only returns ``\"boxes\"`` and ``\"labels\"`` to avoid transforming unnecessary\nitems down the line, but you can pass the ``target_type`` parameter for fine-grained control.\n\n"
      ]
    },
    {
      "cell_type": "code",
      "execution_count": null,
      "metadata": {
        "collapsed": false
      },
      "outputs": [],
      "source": [
        "dataset = datasets.wrap_dataset_for_transforms_v2(dataset)\n\nsample = dataset[0]\nimage, target = sample\nprint(type(image))\nprint(type(target), list(target.keys()))\nprint(type(target[\"boxes\"]), type(target[\"labels\"]))"
      ]
    },
    {
      "cell_type": "markdown",
      "metadata": {},
      "source": [
        "As baseline, let's have a look at a sample without transformations:\n\n"
      ]
    },
    {
      "cell_type": "code",
      "execution_count": null,
      "metadata": {
        "collapsed": false
      },
      "outputs": [],
      "source": [
        "show(sample)"
      ]
    },
    {
      "cell_type": "markdown",
      "metadata": {},
      "source": [
        "With the dataset properly set up, we can now define the augmentation pipeline. This is done the same way it is done in\n``torchvision.transforms`` v1, but now handles bounding boxes and masks without any extra configuration.\n\n"
      ]
    },
    {
      "cell_type": "code",
      "execution_count": null,
      "metadata": {
        "collapsed": false
      },
      "outputs": [],
      "source": [
        "transform = transforms.Compose(\n    [\n        transforms.RandomPhotometricDistort(),\n        transforms.RandomZoomOut(fill={PIL.Image.Image: (123, 117, 104), \"others\": 0}),\n        transforms.RandomIoUCrop(),\n        transforms.RandomHorizontalFlip(),\n        transforms.ToImage(),\n        transforms.ConvertImageDtype(torch.float32),\n        transforms.SanitizeBoundingBoxes(),\n    ]\n)"
      ]
    },
    {
      "cell_type": "markdown",
      "metadata": {},
      "source": [
        "<div class=\"alert alert-info\"><h4>Note</h4><p>Although the :class:`~torchvision.transforms.v2.SanitizeBoundingBoxes` transform is a no-op in this example, but it\n   should be placed at least once at the end of a detection pipeline to remove degenerate bounding boxes as well as\n   the corresponding labels and optionally masks. It is particularly critical to add it if\n   :class:`~torchvision.transforms.v2.RandomIoUCrop` was used.</p></div>\n\nLet's look how the sample looks like with our augmentation pipeline in place:\n\n"
      ]
    },
    {
      "cell_type": "code",
      "execution_count": null,
      "metadata": {
        "collapsed": false
      },
      "outputs": [],
      "source": [
        "dataset = load_example_coco_detection_dataset(transforms=transform)\ndataset = datasets.wrap_dataset_for_transforms_v2(dataset)\n\ntorch.manual_seed(3141)\nsample = dataset[0]\n\nshow(sample)"
      ]
    },
    {
      "cell_type": "markdown",
      "metadata": {},
      "source": [
        "We can see that the color of the image was distorted, we zoomed out on it (off center) and flipped it horizontally.\nIn all of this, the bounding box was transformed accordingly. And without any further ado, we can start training.\n\n"
      ]
    },
    {
      "cell_type": "code",
      "execution_count": null,
      "metadata": {
        "collapsed": false
      },
      "outputs": [],
      "source": [
        "data_loader = torch.utils.data.DataLoader(\n    dataset,\n    batch_size=2,\n    # We need a custom collation function here, since the object detection models expect a\n    # sequence of images and target dictionaries. The default collation function tries to\n    # `torch.stack` the individual elements, which fails in general for object detection,\n    # because the number of object instances varies between the samples. This is the same for\n    # `torchvision.transforms` v1\n    collate_fn=lambda batch: tuple(zip(*batch)),\n)\n\nmodel = models.get_model(\"ssd300_vgg16\", weights=None, weights_backbone=None).train()\n\nfor images, targets in data_loader:\n    loss_dict = model(images, targets)\n    print(loss_dict)\n    # Put your training logic here\n    break"
      ]
    }
  ],
  "metadata": {
    "kernelspec": {
      "display_name": "Python 3",
      "language": "python",
      "name": "python3"
    },
    "language_info": {
      "codemirror_mode": {
        "name": "ipython",
        "version": 3
      },
      "file_extension": ".py",
      "mimetype": "text/x-python",
      "name": "python",
      "nbconvert_exporter": "python",
      "pygments_lexer": "ipython3",
      "version": "3.8.17"
    }
  },
  "nbformat": 4,
  "nbformat_minor": 0
}